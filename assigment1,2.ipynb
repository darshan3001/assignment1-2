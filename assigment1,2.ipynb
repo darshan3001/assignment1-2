{
  "nbformat": 4,
  "nbformat_minor": 0,
  "metadata": {
    "colab": {
      "name": "assigment1,2",
      "provenance": []
    },
    "kernelspec": {
      "name": "python3",
      "display_name": "Python 3"
    }
  },
  "cells": [
    {
      "cell_type": "code",
      "metadata": {
        "id": "HGBj2s9HCBeV",
        "colab_type": "code",
        "colab": {
          "base_uri": "https://localhost:8080/",
          "height": 68
        },
        "outputId": "9cb14965-edf3-460a-88c3-120a50b74bfc"
      },
      "source": [
        "a=int(input())\n",
        "b=int(input())\n",
        "print(a+b)"
      ],
      "execution_count": null,
      "outputs": [
        {
          "output_type": "stream",
          "text": [
            "3\n",
            "5\n",
            "8\n"
          ],
          "name": "stdout"
        }
      ]
    },
    {
      "cell_type": "code",
      "metadata": {
        "id": "RwcjNn2VCrJr",
        "colab_type": "code",
        "colab": {
          "base_uri": "https://localhost:8080/",
          "height": 51
        },
        "outputId": "ed53e1d1-5063-486f-eb92-d0dbce3a4a62"
      },
      "source": [
        "a=input(\"name:\")\n",
        "print(\"hello:\",a)"
      ],
      "execution_count": null,
      "outputs": [
        {
          "output_type": "stream",
          "text": [
            "name:darshan\n",
            "hello: darshan\n"
          ],
          "name": "stdout"
        }
      ]
    },
    {
      "cell_type": "code",
      "metadata": {
        "id": "3n0q5tfbC7Gw",
        "colab_type": "code",
        "colab": {
          "base_uri": "https://localhost:8080/",
          "height": 68
        },
        "outputId": "08672346-fde2-430b-bba5-708f926ba974"
      },
      "source": [
        "a=int(input(\"enterance:\"))\n",
        "b=int(input(\"enterrate:\"))\n",
        "c=a*b\n",
        "print(c)"
      ],
      "execution_count": null,
      "outputs": [
        {
          "output_type": "stream",
          "text": [
            "enterance:22\n",
            "enterrate:24\n",
            "528\n"
          ],
          "name": "stdout"
        }
      ]
    },
    {
      "cell_type": "code",
      "metadata": {
        "id": "9IUEf7ClDW8C",
        "colab_type": "code",
        "colab": {
          "base_uri": "https://localhost:8080/",
          "height": 90
        },
        "outputId": "93faf656-12af-4ec2-c948-30f9963f4475"
      },
      "source": [
        "width=17\n",
        "height=12.0\n",
        "a=width//2\n",
        "b=width/2.0\n",
        "c=height/3\n",
        "d=1+2&3\n",
        "print(a)\n",
        "print(b)\n",
        "print(c)\n",
        "print(d)"
      ],
      "execution_count": 4,
      "outputs": [
        {
          "output_type": "stream",
          "text": [
            "8\n",
            "8.5\n",
            "4.0\n",
            "3\n"
          ],
          "name": "stdout"
        }
      ]
    },
    {
      "cell_type": "code",
      "metadata": {
        "id": "2KqzuY0vEGYk",
        "colab_type": "code",
        "colab": {
          "base_uri": "https://localhost:8080/",
          "height": 54
        },
        "outputId": "ded40ee3-514e-49c0-a546-494db18ad652"
      },
      "source": [
        "c=int(input())\n",
        "f=c-32\n",
        "print(f)"
      ],
      "execution_count": 5,
      "outputs": [
        {
          "output_type": "stream",
          "text": [
            "34\n",
            "2\n"
          ],
          "name": "stdout"
        }
      ]
    },
    {
      "cell_type": "code",
      "metadata": {
        "id": "znfi3NrKEQG4",
        "colab_type": "code",
        "colab": {
          "base_uri": "https://localhost:8080/",
          "height": 90
        },
        "outputId": "d71e1b2b-30c4-4ded-c464-ff5569a5e7a4"
      },
      "source": [
        "a=int(input(\"principle:\"))\n",
        "b=int(input(\"time:\"))\n",
        "c=int(input(\"rate:\"))\n",
        "si=a*b*c\n",
        "print(si)\n"
      ],
      "execution_count": 7,
      "outputs": [
        {
          "output_type": "stream",
          "text": [
            "principle:43000\n",
            "time:2\n",
            "rate:3\n",
            "258000\n"
          ],
          "name": "stdout"
        }
      ]
    },
    {
      "cell_type": "code",
      "metadata": {
        "id": "3sekHzk6FAPa",
        "colab_type": "code",
        "colab": {
          "base_uri": "https://localhost:8080/",
          "height": 72
        },
        "outputId": "31dfecc6-7c0e-4123-c728-a83f5dbe4d28"
      },
      "source": [
        "b=int(input())\n",
        "h=int(input())\n",
        "a=0.5*b*h\n",
        "print(a)"
      ],
      "execution_count": 8,
      "outputs": [
        {
          "output_type": "stream",
          "text": [
            "2\n",
            "3\n",
            "3.0\n"
          ],
          "name": "stdout"
        }
      ]
    },
    {
      "cell_type": "code",
      "metadata": {
        "id": "jB3QG35pGBv1",
        "colab_type": "code",
        "colab": {
          "base_uri": "https://localhost:8080/",
          "height": 72
        },
        "outputId": "4eee7177-581d-433e-99e9-ada00f550bd1"
      },
      "source": [
        "l=int(input())\n",
        "b=int(input())\n",
        "a=l*b\n",
        "print(a)"
      ],
      "execution_count": 9,
      "outputs": [
        {
          "output_type": "stream",
          "text": [
            "3\n",
            "5\n",
            "15\n"
          ],
          "name": "stdout"
        }
      ]
    },
    {
      "cell_type": "code",
      "metadata": {
        "id": "umye5-3ZGyJB",
        "colab_type": "code",
        "colab": {
          "base_uri": "https://localhost:8080/",
          "height": 54
        },
        "outputId": "a0f9fa03-5a40-4c12-b0ff-366d0e7e4987"
      },
      "source": [
        "r=int(input())\n",
        "py=3.14\n",
        "a=2*py*r\n",
        "print(a)\n"
      ],
      "execution_count": 10,
      "outputs": [
        {
          "output_type": "stream",
          "text": [
            "6\n",
            "37.68\n"
          ],
          "name": "stdout"
        }
      ]
    },
    {
      "cell_type": "code",
      "metadata": {
        "id": "D3S1pkq8HkqZ",
        "colab_type": "code",
        "colab": {
          "base_uri": "https://localhost:8080/",
          "height": 90
        },
        "outputId": "76b75b6c-c728-4d6e-dd9f-42368cabe221"
      },
      "source": [
        "a=int(input())\n",
        "b=int(input())\n",
        "print(\"values before swapping\",a,b)\n",
        "temp=a\n",
        "a=b\n",
        "b=temp\n",
        "print(\"values after swapping\",a,b)"
      ],
      "execution_count": 11,
      "outputs": [
        {
          "output_type": "stream",
          "text": [
            "4\n",
            "5\n",
            "values before swapping 4 5\n",
            "values after swapping 5 4\n"
          ],
          "name": "stdout"
        }
      ]
    },
    {
      "cell_type": "code",
      "metadata": {
        "id": "veLrJPwYIRFX",
        "colab_type": "code",
        "colab": {
          "base_uri": "https://localhost:8080/",
          "height": 145
        },
        "outputId": "38b6a716-2259-48cd-d58a-bef8f4232bff"
      },
      "source": [
        "a=2\n",
        "b=8\n",
        "add=a+b\n",
        "sub=b-a\n",
        "mul=a*b\n",
        "div=a/b\n",
        "mod=a%b\n",
        "exp=a**b\n",
        "flr=a//b\n",
        "print(add)\n",
        "print(sub)\n",
        "print(mul)\n",
        "print(div)\n",
        "print(mod)\n",
        "print(exp)\n",
        "print(flr)"
      ],
      "execution_count": 12,
      "outputs": [
        {
          "output_type": "stream",
          "text": [
            "10\n",
            "6\n",
            "16\n",
            "0.25\n",
            "2\n",
            "256\n",
            "0\n"
          ],
          "name": "stdout"
        }
      ]
    },
    {
      "cell_type": "code",
      "metadata": {
        "id": "78m6SHBYJKrg",
        "colab_type": "code",
        "colab": {}
      },
      "source": [
        ""
      ],
      "execution_count": null,
      "outputs": []
    }
  ]
}